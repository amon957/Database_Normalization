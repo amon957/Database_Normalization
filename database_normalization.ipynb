{
 "cells": [
  {
   "cell_type": "markdown",
   "id": "cd2aac1e",
   "metadata": {},
   "source": [
    "### Creating sqlite database and exporting csv data into the created database\n",
    "#### <li>Load csv data</li>\n",
    "#### <li>Create/Connect to sqlite database</li>\n",
    "#### <li>Load data file to sqlite</li>\n",
    "#### <li>Close connection</li>"
   ]
  },
  {
   "cell_type": "code",
   "execution_count": 1,
   "id": "51011b51",
   "metadata": {},
   "outputs": [],
   "source": [
    "import sqlite3\n",
    "import pandas as pd\n",
    "\n",
    "#Step 1: Load csv data\n",
    "data=pd.read_csv('buildings.csv')\n",
    "\n",
    "#Step 2: Create/Connect to sqlite database\n",
    "conn=sqlite3.connect('PFSIN.db')\n",
    "\n",
    "#step 3: Load data file to sqlite\n",
    "data.to_sql('properties',conn,if_exists='replace')\n",
    "\n",
    "#step 4: Close Connection\n",
    "conn.close()"
   ]
  },
  {
   "cell_type": "code",
   "execution_count": null,
   "id": "f5f45e58",
   "metadata": {},
   "outputs": [],
   "source": [
    "#Load and activate the SQL extension\n",
    "%load_ext sql"
   ]
  },
  {
   "cell_type": "code",
   "execution_count": null,
   "id": "b5cfc2a7",
   "metadata": {},
   "outputs": [],
   "source": [
    "%sql sqlite:///PFSIN.db"
   ]
  },
  {
   "cell_type": "markdown",
   "id": "f8e1c0d0",
   "metadata": {},
   "source": [
    "# Database Normalization\n",
    "### Original table is in 1NF with the following columns\n",
    "<img src='Original_table.png'>"
   ]
  },
  {
   "cell_type": "markdown",
   "id": "76a0e0db",
   "metadata": {},
   "source": [
    "### Create additional tables to implement normalization"
   ]
  },
  {
   "cell_type": "code",
   "execution_count": 23,
   "id": "33ce3ed8",
   "metadata": {},
   "outputs": [
    {
     "name": "stdout",
     "output_type": "stream",
     "text": [
      " * sqlite:///PFSIN.db\n",
      "Done.\n",
      "Done.\n",
      "Done.\n",
      "Done.\n",
      "Done.\n",
      "Done.\n",
      "Done.\n",
      "Done.\n",
      "Done.\n",
      "Done.\n",
      "Done.\n",
      "Done.\n"
     ]
    },
    {
     "data": {
      "text/plain": [
       "[]"
      ]
     },
     "execution_count": 23,
     "metadata": {},
     "output_type": "execute_result"
    }
   ],
   "source": [
    "%%sql\n",
    "DROP TABLE IF EXISTS amenities;\n",
    "CREATE TABLE amenities(\n",
    "    amenity_id INTEGER PRIMARY KEY AUTOINCREMENT,\n",
    "    house_id INTEGER,\n",
    "    has_borehole INTEGER,\n",
    "    has_garden INTEGER,\n",
    "    has_parking_bay INTEGER,\n",
    "    has_generator INTEGER,\n",
    "    has_balcony INTEGER,\n",
    "    has_cctv INTEGER,\n",
    "    has_fibre_internet INTEGER,\n",
    "    has_gym INTEGER,\n",
    "    FOREIGN KEY (house_id) REFERENCES properties(house_id)\n",
    ");\n",
    "\n",
    "DROP TABLE IF EXISTS regions;\n",
    "CREATE TABLE regions(\n",
    "    region_id INTEGER PRIMARY KEY AUTOINCREMENT,\n",
    "    region_name TEXT\n",
    ");\n",
    "DROP TABLE IF EXISTS bedrooms;\n",
    "CREATE TABLE bedrooms(\n",
    "    bedroom_id INTEGER PRIMARY KEY AUTOINCREMENT,\n",
    "    no_bedrooms INTEGER\n",
    ");\n",
    "DROP TABLE IF EXISTS bathrooms;\n",
    "CREATE TABLE bathrooms(\n",
    "    bathroom_id INTEGER PRIMARY KEY AUTOINCREMENT,\n",
    "    no_bathrooms INTEGER\n",
    ");\n",
    "DROP TABLE IF EXISTS location;\n",
    "CREATE TABLE location(\n",
    "    location_id INTEGER PRIMARY KEY AUTOINCREMENT,\n",
    "    house_id INTEGER,\n",
    "    longitude REAL,\n",
    "    latitude REAL,\n",
    "    FOREIGN KEY (house_id) REFERENCES properties(house_id)\n",
    ");\n",
    "DROP TABLE IF EXISTS prices;\n",
    "CREATE TABLE prices(\n",
    "    price_id INTEGER PRIMARY KEY AUTOINCREMENT,\n",
    "    house_id INTEGER,\n",
    "    price INTEGER,\n",
    "    FOREIGN KEY (house_id) REFERENCES properties(house_id)\n",
    ");\n",
    "DROP TABLE IF EXISTS buildings;\n",
    "CREATE TABLE buildings (\n",
    "    house_id INTEGER PRIMARY KEY AUTOINCREMENT,\n",
    "    building_name TEXT,\n",
    "    bedroom_id INTEGER,\n",
    "    region_id INTEGER,\n",
    "    bathroom_id INTEGER,\n",
    "    FOREIGN KEY (bathroom_id) REFERENCES bathrooms(bathroom_id),\n",
    "    FOREIGN KEY (region_id) REFERENCES regions(region_id),\n",
    "    FOREIGN KEY (bedroom_id) REFERENCES bedrooms(bedroom_id)\n",
    ");"
   ]
  },
  {
   "cell_type": "markdown",
   "id": "88ecc4b6",
   "metadata": {},
   "source": [
    "### Add data to the created tables"
   ]
  },
  {
   "cell_type": "code",
   "execution_count": 26,
   "id": "4918d5be",
   "metadata": {},
   "outputs": [
    {
     "name": "stdout",
     "output_type": "stream",
     "text": [
      " * sqlite:///PFSIN.db\n",
      "9 rows affected.\n",
      "10 rows affected.\n",
      "1133 rows affected.\n",
      "1133 rows affected.\n"
     ]
    },
    {
     "data": {
      "text/plain": [
       "[]"
      ]
     },
     "execution_count": 26,
     "metadata": {},
     "output_type": "execute_result"
    }
   ],
   "source": [
    "%%sql\n",
    "INSERT INTO amenities (house_id,has_borehole,has_garden,has_parking_bay,has_generator,has_balcony,has_cctv,\n",
    "                       has_fibre_internet,has_gym)\n",
    "SELECT\n",
    "    house_id,\n",
    "    has_borehole,\n",
    "    has_garden,\n",
    "    has_parking_bay,\n",
    "    has_generator,\n",
    "    has_balcony,\n",
    "    has_cctv,\n",
    "    has_fibre_internet,\n",
    "    has_gym\n",
    "FROM properties;\n",
    "\n",
    "INSERT INTO regions(region_name)\n",
    "SELECT\n",
    "    DISTINCT region\n",
    "FROM properties\n",
    "WHERE region IS NOT NULL;\n",
    "\n",
    "INSERT INTO bedrooms(no_bedrooms)\n",
    "SELECT\n",
    "    DISTINCT number_of_bedrooms\n",
    "FROM properties\n",
    "WHERE number_of_bedrooms IS NOT NULL;\n",
    "\n",
    "INSERT INTO bathrooms(no_bathrooms)\n",
    "SELECT\n",
    "    DISTINCT number_of_bathrooms\n",
    "FROM properties\n",
    "WHERE number_of_bathrooms IS NOT NULL;\n",
    "\n",
    "INSERT INTO prices(house_id,price)\n",
    "SELECT\n",
    "    house_id,\n",
    "    price\n",
    "FROM properties;\n",
    "\n",
    "INSERT INTO location(house_id,longitude,latitude)\n",
    "SELECT\n",
    "    house_id,\n",
    "    longitude,\n",
    "    latitude\n",
    "FROM properties;\n",
    "\n",
    "WITH properties_1 AS(\n",
    "    SELECT\n",
    "        properties.house_id,\n",
    "        properties.building_name,\n",
    "        regions.region_id,\n",
    "        bedrooms.bedroom_id,\n",
    "        bathrooms.bathroom_id\n",
    "    FROM properties\n",
    "    LEFT JOIN\n",
    "        bedrooms\n",
    "        ON properties.number_of_bedrooms = bedrooms.no_bedrooms\n",
    "    LEFT JOIN\n",
    "        bathrooms\n",
    "        ON properties.number_of_bathrooms = bathrooms.no_bathrooms\n",
    "    LEFT JOIN\n",
    "        regions\n",
    "        ON properties.region = regions.region_name\n",
    ")\n",
    "INSERT INTO buildings (house_id,building_name,bedroom_id,region_id,bathroom_id)\n",
    "SELECT\n",
    "    house_id,\n",
    "    building_name,\n",
    "    bedroom_id,\n",
    "    region_id,\n",
    "    bathroom_id\n",
    "FROM properties_1;\n",
    "\n",
    "DROP TABLE properties;\n",
    "ALTER TABLE buildings RENAME TO properties;"
   ]
  },
  {
   "cell_type": "markdown",
   "id": "e23c798b",
   "metadata": {},
   "source": [
    "## Resulting ER Diagram after Normalization\n",
    "<img src='ER_diagram.png'><img>"
   ]
  },
  {
   "cell_type": "code",
   "execution_count": null,
   "id": "9e728cec",
   "metadata": {},
   "outputs": [],
   "source": []
  }
 ],
 "metadata": {
  "kernelspec": {
   "display_name": "Python 3 (ipykernel)",
   "language": "python",
   "name": "python3"
  },
  "language_info": {
   "codemirror_mode": {
    "name": "ipython",
    "version": 3
   },
   "file_extension": ".py",
   "mimetype": "text/x-python",
   "name": "python",
   "nbconvert_exporter": "python",
   "pygments_lexer": "ipython3",
   "version": "3.11.5"
  }
 },
 "nbformat": 4,
 "nbformat_minor": 5
}
